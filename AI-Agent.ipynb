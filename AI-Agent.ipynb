{
  "cells": [
    {
      "cell_type": "markdown",
      "id": "425fb020-e864-40ce-a31f-8da40c73d14b",
      "metadata": {
        "id": "425fb020-e864-40ce-a31f-8da40c73d14b"
      },
      "source": [
        "# Agentic RAG"
      ]
    },
    {
      "cell_type": "code",
      "execution_count": 1,
      "id": "969fb438",
      "metadata": {
        "id": "969fb438"
      },
      "outputs": [
        {
          "name": "stderr",
          "output_type": "stream",
          "text": [
            "ERROR: pip's dependency resolver does not currently take into account all the packages that are installed. This behaviour is the source of the following dependency conflicts.\n",
            "crewai 0.27.0 requires langchain<0.2.0,>=0.1.10, but you have langchain 0.2.12 which is incompatible.\n",
            "crewai-tools 0.1.4 requires chromadb<0.5.0,>=0.4.22, but you have chromadb 0.5.5 which is incompatible.\n",
            "crewai-tools 0.1.4 requires langchain<0.2.0,>=0.1.4, but you have langchain 0.2.12 which is incompatible.\n",
            "embedchain 0.1.99 requires chromadb<0.5.0,>=0.4.17, but you have chromadb 0.5.5 which is incompatible.\n",
            "embedchain 0.1.99 requires langchain<0.2.0,>=0.1.4, but you have langchain 0.2.12 which is incompatible.\n",
            "embedchain 0.1.99 requires langchain-openai<0.0.6,>=0.0.5, but you have langchain-openai 0.1.20 which is incompatible.\n",
            "embedchain 0.1.99 requires pypdf<4.0.0,>=3.11.0, but you have pypdf 4.2.0 which is incompatible.\n",
            "embedchain 0.1.99 requires tiktoken<0.6.0,>=0.5.2, but you have tiktoken 0.7.0 which is incompatible.\n",
            "\n",
            "[notice] A new release of pip is available: 24.1.1 -> 24.2\n",
            "[notice] To update, run: python.exe -m pip install --upgrade pip\n"
          ]
        }
      ],
      "source": [
        "%%capture --no-stderr\n",
        "%pip install -U --quiet langchain-community tiktoken langchain-openai langchainhub chromadb langchain langgraph langchain-text-splitters"
      ]
    },
    {
      "cell_type": "code",
      "execution_count": 1,
      "id": "MmVY8k44Nq4k",
      "metadata": {
        "colab": {
          "base_uri": "https://localhost:8080/"
        },
        "id": "MmVY8k44Nq4k",
        "outputId": "16dcf193-052d-4939-cebf-f40692b34c8b"
      },
      "outputs": [
        {
          "data": {
            "text/plain": [
              "AIMessage(content=\"J'aime programmer.\", additional_kwargs={'refusal': None}, response_metadata={'token_usage': {'completion_tokens': 4, 'prompt_tokens': 19, 'total_tokens': 23, 'completion_tokens_details': {'accepted_prediction_tokens': 0, 'audio_tokens': 0, 'reasoning_tokens': 0, 'rejected_prediction_tokens': 0}, 'prompt_tokens_details': {'audio_tokens': 0, 'cached_tokens': 0}}, 'model_name': 'gpt-4o-2024-05-13', 'system_fingerprint': 'fp_f3927aa00d', 'prompt_filter_results': [{'prompt_index': 0, 'content_filter_results': {'hate': {'filtered': False, 'severity': 'safe'}, 'jailbreak': {'filtered': False, 'detected': False}, 'self_harm': {'filtered': False, 'severity': 'safe'}, 'sexual': {'filtered': False, 'severity': 'safe'}, 'violence': {'filtered': False, 'severity': 'safe'}}}], 'finish_reason': 'stop', 'logprobs': None, 'content_filter_results': {'hate': {'filtered': False, 'severity': 'safe'}, 'protected_material_code': {'filtered': False, 'detected': False}, 'protected_material_text': {'filtered': False, 'detected': False}, 'self_harm': {'filtered': False, 'severity': 'safe'}, 'sexual': {'filtered': False, 'severity': 'safe'}, 'violence': {'filtered': False, 'severity': 'safe'}}}, id='run-ceae93ad-cad8-4791-ab9c-73e48c9ee557-0', usage_metadata={'input_tokens': 19, 'output_tokens': 4, 'total_tokens': 23, 'input_token_details': {'audio': 0, 'cache_read': 0}, 'output_token_details': {'audio': 0, 'reasoning': 0}})"
            ]
          },
          "execution_count": 1,
          "metadata": {},
          "output_type": "execute_result"
        }
      ],
      "source": [
        "import os\n",
        "from langchain_openai import AzureOpenAI\n",
        "from dotenv import dotenv_values\n",
        "\n",
        "config = dotenv_values(\".env\") \n",
        "\n",
        "\n",
        "os.environ[\"AZURE_OPENAI_API_VERSION\"] = dotenv_values(\".env\")[\"AZURE_OPENAI_API_VERSION\"]\n",
        "os.environ[\"AZURE_OPENAI_ENDPOINT\"] = dotenv_values(\".env\")[\"AZURE_OPENAI_ENDPOINT\"] \n",
        "os.environ[\"AZURE_OPENAI_API_KEY\"] = dotenv_values(\".env\")[\"AZURE_OPENAI_API_KEY\"]\n",
        "os.environ[\"AZURE_OPENAI_CHAT_DEPLOYMENT_NAME\"] = \"gpt-4o\"\n",
        "\n",
        "from langchain_core.messages import HumanMessage\n",
        "from langchain_openai import AzureChatOpenAI\n",
        "\n",
        "model = AzureChatOpenAI(\n",
        "    openai_api_version=os.environ[\"AZURE_OPENAI_API_VERSION\"],\n",
        "    azure_deployment=os.environ[\"AZURE_OPENAI_CHAT_DEPLOYMENT_NAME\"],\n",
        ")\n",
        "\n",
        "message = HumanMessage(\n",
        "    content=\"Translate this sentence from English to French. I love programming.\"\n",
        ")\n",
        "model.invoke([message])"
      ]
    },
    {
      "cell_type": "code",
      "execution_count": 2,
      "id": "KjLQz1ZOO_m8",
      "metadata": {
        "id": "KjLQz1ZOO_m8"
      },
      "outputs": [],
      "source": [
        "from langchain_openai import AzureOpenAIEmbeddings\n",
        "\n",
        "embeddings = AzureOpenAIEmbeddings(\n",
        "    azure_deployment=\"text-embedding-3-large\"\n",
        ")"
      ]
    },
    {
      "cell_type": "markdown",
      "id": "a41798fd",
      "metadata": {},
      "source": [
        "# DB tool"
      ]
    },
    {
      "cell_type": "code",
      "execution_count": 3,
      "id": "e8229c00",
      "metadata": {},
      "outputs": [],
      "source": [
        "import sqlite3\n",
        "import pandas as pd\n",
        "\n",
        "# Sample data from the CSV\n",
        "data = {\n",
        "    \"Name\": [\"John Doe\", \"Jane Smith\", \"Alex Johnson\", \"Chris Lee\", \"Patricia Brown\"],\n",
        "    \"Gender\": [\"Male\", \"Female\", \"Male\", \"Non-binary\", \"Female\"],\n",
        "    \"Age\": [28, 34, 22, 29, 41],\n",
        "    \"Previous Purchases\": [\n",
        "        \"Pro Gear 123 Climbing Shoes, UltraClip Carabiner, StrongRope 500\",\n",
        "        \"ClimbSafe Harness, GripMaster Chalk Bag, RockShield Helmet\",\n",
        "        \"QuickClip Carabiner\",\n",
        "        \"SummitX Climbing Shoes, ClimbSafe Harness\",\n",
        "        \"StrongRope 500, ProGrip Chalk, SecureBelay Device, QuickLink Quickdraw Set\"\n",
        "    ],\n",
        "    \"Reviews Given\": [\n",
        "        \"I really liked this product!\",\n",
        "        \"The product quality is great, highly recommend!\",\n",
        "        \"It's okay, but I expected better.\",\n",
        "        \"Good value for the price.\",\n",
        "        \"Excellent gear, will buy again!\"\n",
        "    ]\n",
        "}\n",
        "\n",
        "# Converting the dictionary to a DataFrame\n",
        "df = pd.DataFrame(data)\n",
        "\n",
        "# Connecting to a SQLite database (it will create a new one if it doesn't exist)\n",
        "conn = sqlite3.connect('climbing_gear_customers.db')\n",
        "\n",
        "# Storing the DataFrame in the SQLite database\n",
        "df.to_sql('customer_interactions', conn, index=False, if_exists='replace')\n",
        "\n",
        "# Committing and closing the connection\n",
        "conn.commit()\n",
        "conn.close()\n"
      ]
    },
    {
      "cell_type": "code",
      "execution_count": 3,
      "id": "10c4e85c",
      "metadata": {},
      "outputs": [],
      "source": [
        "from langchain_community.utilities.sql_database import SQLDatabase\n",
        "db = SQLDatabase.from_uri(\"sqlite:///climbing_gear_customers.db\")"
      ]
    },
    {
      "cell_type": "code",
      "execution_count": 4,
      "id": "74c0a5f4",
      "metadata": {},
      "outputs": [
        {
          "data": {
            "text/plain": [
              "[QuerySQLDataBaseTool(description=\"Input to this tool is a detailed and correct SQL query, output is a result from the database. If the query is not correct, an error message will be returned. If an error is returned, rewrite the query, check the query, and try again. If you encounter an issue with Unknown column 'xxxx' in 'field list', use sql_db_schema to query the correct table fields.\", db=<langchain_community.utilities.sql_database.SQLDatabase object at 0x00000285A1F271D0>),\n",
              " InfoSQLDatabaseTool(description='Input to this tool is a comma-separated list of tables, output is the schema and sample rows for those tables. Be sure that the tables actually exist by calling sql_db_list_tables first! Example Input: table1, table2, table3', db=<langchain_community.utilities.sql_database.SQLDatabase object at 0x00000285A1F271D0>),\n",
              " ListSQLDatabaseTool(db=<langchain_community.utilities.sql_database.SQLDatabase object at 0x00000285A1F271D0>),\n",
              " QuerySQLCheckerTool(description='Use this tool to double check if your query is correct before executing it. Always use this tool before executing a query with sql_db_query!', db=<langchain_community.utilities.sql_database.SQLDatabase object at 0x00000285A1F271D0>, llm=AzureChatOpenAI(client=<openai.resources.chat.completions.Completions object at 0x00000285A08A8470>, async_client=<openai.resources.chat.completions.AsyncCompletions object at 0x00000285A08A87A0>, root_client=<openai.lib.azure.AzureOpenAI object at 0x00000285A01007A0>, root_async_client=<openai.lib.azure.AsyncAzureOpenAI object at 0x00000285A07D3CE0>, model_kwargs={}, openai_api_key=SecretStr('**********'), disabled_params={'parallel_tool_calls': None}, azure_endpoint='https://AOAI-test-vaalt.openai.azure.com/', deployment_name='gpt-4o', openai_api_version='2024-05-01-preview', openai_api_type='azure'), llm_chain=LLMChain(verbose=False, prompt=PromptTemplate(input_variables=['dialect', 'query'], input_types={}, partial_variables={}, template='\\n{query}\\nDouble check the {dialect} query above for common mistakes, including:\\n- Using NOT IN with NULL values\\n- Using UNION when UNION ALL should have been used\\n- Using BETWEEN for exclusive ranges\\n- Data type mismatch in predicates\\n- Properly quoting identifiers\\n- Using the correct number of arguments for functions\\n- Casting to the correct data type\\n- Using the proper columns for joins\\n\\nIf there are any of the above mistakes, rewrite the query. If there are no mistakes, just reproduce the original query.\\n\\nOutput the final SQL query only.\\n\\nSQL Query: '), llm=AzureChatOpenAI(client=<openai.resources.chat.completions.Completions object at 0x00000285A08A8470>, async_client=<openai.resources.chat.completions.AsyncCompletions object at 0x00000285A08A87A0>, root_client=<openai.lib.azure.AzureOpenAI object at 0x00000285A01007A0>, root_async_client=<openai.lib.azure.AsyncAzureOpenAI object at 0x00000285A07D3CE0>, model_kwargs={}, openai_api_key=SecretStr('**********'), disabled_params={'parallel_tool_calls': None}, azure_endpoint='https://AOAI-test-vaalt.openai.azure.com/', deployment_name='gpt-4o', openai_api_version='2024-05-01-preview', openai_api_type='azure'), output_parser=StrOutputParser(), llm_kwargs={}))]"
            ]
          },
          "execution_count": 4,
          "metadata": {},
          "output_type": "execute_result"
        }
      ],
      "source": [
        "from langchain_community.agent_toolkits.sql.toolkit import SQLDatabaseToolkit\n",
        "\n",
        "toolkit = SQLDatabaseToolkit(db=db, llm=model)\n",
        "toolkit.get_tools()"
      ]
    },
    {
      "cell_type": "markdown",
      "id": "3defbef4",
      "metadata": {},
      "source": [
        "# FAISS"
      ]
    },
    {
      "cell_type": "markdown",
      "id": "630b33e3",
      "metadata": {},
      "source": [
        "## Climbing products"
      ]
    },
    {
      "cell_type": "code",
      "execution_count": 7,
      "id": "d06327da",
      "metadata": {},
      "outputs": [],
      "source": [
        "import faiss\n",
        "from langchain_community.docstore.in_memory import InMemoryDocstore\n",
        "from langchain_community.vectorstores import FAISS\n",
        "\n",
        "index = faiss.IndexFlatL2(len(embeddings.embed_query(\"hello world\")))\n",
        "\n",
        "vector_store = FAISS(\n",
        "    embedding_function=embeddings,\n",
        "    index=index,\n",
        "    docstore=InMemoryDocstore(),\n",
        "    index_to_docstore_id={},\n",
        ")"
      ]
    },
    {
      "cell_type": "code",
      "execution_count": 8,
      "id": "2b5b5152",
      "metadata": {},
      "outputs": [
        {
          "name": "stderr",
          "output_type": "stream",
          "text": [
            "USER_AGENT environment variable not set, consider setting it to identify your requests.\n"
          ]
        },
        {
          "data": {
            "text/plain": [
              "['e601de6f-464a-4481-93ea-1b203d6e2602',\n",
              " '9a3bfd8b-dbba-42a3-ad9e-ab1edde88269',\n",
              " '111a1068-1cbc-4f0f-b92e-6f6dd26bbf47',\n",
              " '63eb8698-7291-43f6-b418-4425d3623db6',\n",
              " 'ba74df90-0834-4cca-aa4e-13e64294196f']"
            ]
          },
          "execution_count": 8,
          "metadata": {},
          "output_type": "execute_result"
        }
      ],
      "source": [
        "from langchain_community.document_loaders import PyPDFLoader\n",
        "from langchain_community.document_loaders import WebBaseLoader\n",
        "from langchain_community.vectorstores import Chroma\n",
        "from langchain_openai import OpenAIEmbeddings\n",
        "from langchain_text_splitters import RecursiveCharacterTextSplitter\n",
        "from langchain_community.document_loaders import TextLoader\n",
        "import time\n",
        "from langchain_text_splitters import CharacterTextSplitter\n",
        "\n",
        "file_path = (\n",
        "    \"Climbing product sheet.pdf\"\n",
        ")\n",
        "loader = PyPDFLoader(file_path)\n",
        "documents = loader.load()\n",
        "text_splitter = CharacterTextSplitter(chunk_size=1000, chunk_overlap=0)\n",
        "docs = text_splitter.split_documents(documents)\n",
        "\n",
        "vector_store.add_documents(documents=docs)"
      ]
    },
    {
      "cell_type": "code",
      "execution_count": 9,
      "id": "2b5b5152",
      "metadata": {},
      "outputs": [],
      "source": [
        "from langchain_community.retrievers import AzureAISearchRetriever\n",
        "\n",
        "products_retriever = vector_store.as_retriever()"
      ]
    },
    {
      "cell_type": "code",
      "execution_count": 10,
      "id": "d2401ca0",
      "metadata": {},
      "outputs": [],
      "source": [
        "from langchain.tools.retriever import create_retriever_tool\n",
        "\n",
        "climbing_products_tool = create_retriever_tool(\n",
        "    products_retriever,\n",
        "    \"climbing_products_search\",\n",
        "    \"\"\"\n",
        "    Search and return information about climbing products.\n",
        "    \"\"\"\n",
        ")"
      ]
    },
    {
      "cell_type": "markdown",
      "id": "0a995ca7",
      "metadata": {},
      "source": [
        "## trekking"
      ]
    },
    {
      "cell_type": "code",
      "execution_count": 11,
      "id": "d21a1935",
      "metadata": {},
      "outputs": [],
      "source": [
        "from langchain.document_loaders import PyPDFDirectoryLoader\n",
        "\n",
        "\n",
        "index = faiss.IndexFlatL2(len(embeddings.embed_query(\"hello world\")))\n",
        "\n",
        "vector_store_trekking = FAISS(\n",
        "    embedding_function=embeddings,\n",
        "    index=index,\n",
        "    docstore=InMemoryDocstore(),\n",
        "    index_to_docstore_id={},\n",
        ")\n",
        "\n",
        "file_path = (\n",
        "    \"trekkings\"\n",
        ")\n",
        "loader = PyPDFDirectoryLoader(file_path)\n",
        "documents = loader.load()\n",
        "text_splitter = CharacterTextSplitter(chunk_size=1000, chunk_overlap=0)\n",
        "docs = text_splitter.split_documents(documents)"
      ]
    },
    {
      "cell_type": "code",
      "execution_count": 12,
      "id": "32e77218",
      "metadata": {},
      "outputs": [],
      "source": [
        "vector_store_trekking.add_documents(documents=docs)\n",
        "\n",
        "trekking_retriever = vector_store_trekking.as_retriever()\n",
        "\n",
        "from langchain.tools.retriever import create_retriever_tool\n",
        "\n",
        "trekking_tool = create_retriever_tool(\n",
        "    trekking_retriever,\n",
        "    \"trekking_search\",\n",
        "    \"\"\"\n",
        "    Search and return information about trekkings in Nepal.\n",
        "    \"\"\"\n",
        ")"
      ]
    },
    {
      "cell_type": "code",
      "execution_count": 13,
      "id": "9b50be12",
      "metadata": {},
      "outputs": [],
      "source": [
        "tools = [climbing_products_tool, trekking_tool, toolkit.get_tools()[0], toolkit.get_tools()[1], toolkit.get_tools()[2], toolkit.get_tools()[3]]"
      ]
    },
    {
      "cell_type": "code",
      "execution_count": 14,
      "id": "a2f21901",
      "metadata": {},
      "outputs": [
        {
          "data": {
            "text/plain": [
              "[Tool(name='climbing_products_search', description='\\n    Search and return information about climbing products.\\n    ', args_schema=<class 'langchain_core.tools.retriever.RetrieverInput'>, func=functools.partial(<function _get_relevant_documents at 0x00000285A010E8E0>, retriever=VectorStoreRetriever(tags=['FAISS', 'AzureOpenAIEmbeddings'], vectorstore=<langchain_community.vectorstores.faiss.FAISS object at 0x00000285A24FF140>, search_kwargs={}), document_prompt=PromptTemplate(input_variables=['page_content'], input_types={}, partial_variables={}, template='{page_content}'), document_separator='\\n\\n'), coroutine=functools.partial(<function _aget_relevant_documents at 0x00000285A02A5DA0>, retriever=VectorStoreRetriever(tags=['FAISS', 'AzureOpenAIEmbeddings'], vectorstore=<langchain_community.vectorstores.faiss.FAISS object at 0x00000285A24FF140>, search_kwargs={}), document_prompt=PromptTemplate(input_variables=['page_content'], input_types={}, partial_variables={}, template='{page_content}'), document_separator='\\n\\n')),\n",
              " Tool(name='trekking_search', description='\\n    Search and return information about trekkings in Nepal.\\n    ', args_schema=<class 'langchain_core.tools.retriever.RetrieverInput'>, func=functools.partial(<function _get_relevant_documents at 0x00000285A010E8E0>, retriever=VectorStoreRetriever(tags=['FAISS', 'AzureOpenAIEmbeddings'], vectorstore=<langchain_community.vectorstores.faiss.FAISS object at 0x000002862F7E3DA0>, search_kwargs={}), document_prompt=PromptTemplate(input_variables=['page_content'], input_types={}, partial_variables={}, template='{page_content}'), document_separator='\\n\\n'), coroutine=functools.partial(<function _aget_relevant_documents at 0x00000285A02A5DA0>, retriever=VectorStoreRetriever(tags=['FAISS', 'AzureOpenAIEmbeddings'], vectorstore=<langchain_community.vectorstores.faiss.FAISS object at 0x000002862F7E3DA0>, search_kwargs={}), document_prompt=PromptTemplate(input_variables=['page_content'], input_types={}, partial_variables={}, template='{page_content}'), document_separator='\\n\\n')),\n",
              " QuerySQLDataBaseTool(description=\"Input to this tool is a detailed and correct SQL query, output is a result from the database. If the query is not correct, an error message will be returned. If an error is returned, rewrite the query, check the query, and try again. If you encounter an issue with Unknown column 'xxxx' in 'field list', use sql_db_schema to query the correct table fields.\", db=<langchain_community.utilities.sql_database.SQLDatabase object at 0x00000285A1F271D0>),\n",
              " InfoSQLDatabaseTool(description='Input to this tool is a comma-separated list of tables, output is the schema and sample rows for those tables. Be sure that the tables actually exist by calling sql_db_list_tables first! Example Input: table1, table2, table3', db=<langchain_community.utilities.sql_database.SQLDatabase object at 0x00000285A1F271D0>),\n",
              " ListSQLDatabaseTool(db=<langchain_community.utilities.sql_database.SQLDatabase object at 0x00000285A1F271D0>),\n",
              " QuerySQLCheckerTool(description='Use this tool to double check if your query is correct before executing it. Always use this tool before executing a query with sql_db_query!', db=<langchain_community.utilities.sql_database.SQLDatabase object at 0x00000285A1F271D0>, llm=AzureChatOpenAI(client=<openai.resources.chat.completions.Completions object at 0x00000285A08A8470>, async_client=<openai.resources.chat.completions.AsyncCompletions object at 0x00000285A08A87A0>, root_client=<openai.lib.azure.AzureOpenAI object at 0x00000285A01007A0>, root_async_client=<openai.lib.azure.AsyncAzureOpenAI object at 0x00000285A07D3CE0>, model_kwargs={}, openai_api_key=SecretStr('**********'), disabled_params={'parallel_tool_calls': None}, azure_endpoint='https://AOAI-test-vaalt.openai.azure.com/', deployment_name='gpt-4o', openai_api_version='2024-05-01-preview', openai_api_type='azure'), llm_chain=LLMChain(verbose=False, prompt=PromptTemplate(input_variables=['dialect', 'query'], input_types={}, partial_variables={}, template='\\n{query}\\nDouble check the {dialect} query above for common mistakes, including:\\n- Using NOT IN with NULL values\\n- Using UNION when UNION ALL should have been used\\n- Using BETWEEN for exclusive ranges\\n- Data type mismatch in predicates\\n- Properly quoting identifiers\\n- Using the correct number of arguments for functions\\n- Casting to the correct data type\\n- Using the proper columns for joins\\n\\nIf there are any of the above mistakes, rewrite the query. If there are no mistakes, just reproduce the original query.\\n\\nOutput the final SQL query only.\\n\\nSQL Query: '), llm=AzureChatOpenAI(client=<openai.resources.chat.completions.Completions object at 0x00000285A08A8470>, async_client=<openai.resources.chat.completions.AsyncCompletions object at 0x00000285A08A87A0>, root_client=<openai.lib.azure.AzureOpenAI object at 0x00000285A01007A0>, root_async_client=<openai.lib.azure.AsyncAzureOpenAI object at 0x00000285A07D3CE0>, model_kwargs={}, openai_api_key=SecretStr('**********'), disabled_params={'parallel_tool_calls': None}, azure_endpoint='https://AOAI-test-vaalt.openai.azure.com/', deployment_name='gpt-4o', openai_api_version='2024-05-01-preview', openai_api_type='azure'), output_parser=StrOutputParser(), llm_kwargs={}))]"
            ]
          },
          "execution_count": 14,
          "metadata": {},
          "output_type": "execute_result"
        }
      ],
      "source": [
        "tools"
      ]
    },
    {
      "cell_type": "markdown",
      "id": "fe6e8f78-1ef7-42ad-b2bf-835ed5850553",
      "metadata": {
        "id": "fe6e8f78-1ef7-42ad-b2bf-835ed5850553"
      },
      "source": [
        "## Agent state"
      ]
    },
    {
      "cell_type": "code",
      "execution_count": 15,
      "id": "0e378706-47d5-425a-8ba0-57b9acffbd0c",
      "metadata": {
        "id": "0e378706-47d5-425a-8ba0-57b9acffbd0c"
      },
      "outputs": [],
      "source": [
        "from typing import Annotated\n",
        "\n",
        "from typing_extensions import TypedDict\n",
        "\n",
        "from langgraph.graph.message import AnyMessage, add_messages\n",
        "\n",
        "\n",
        "class State(TypedDict):\n",
        "    messages: Annotated[list[AnyMessage], add_messages]"
      ]
    },
    {
      "cell_type": "markdown",
      "id": "dc949d42-8a34-4231-bff0-b8198975e2ce",
      "metadata": {
        "id": "dc949d42-8a34-4231-bff0-b8198975e2ce"
      },
      "source": [
        "## Nodes and Edges"
      ]
    },
    {
      "cell_type": "code",
      "execution_count": 16,
      "id": "4080f5c0",
      "metadata": {},
      "outputs": [],
      "source": [
        "from langchain_core.messages import ToolMessage\n",
        "from langchain_core.runnables import RunnableLambda\n",
        "\n",
        "from langgraph.prebuilt import ToolNode\n",
        "\n",
        "\n",
        "def handle_tool_error(state) -> dict:\n",
        "    error = state.get(\"error\")\n",
        "    tool_calls = state[\"messages\"][-1].tool_calls\n",
        "    return {\n",
        "        \"messages\": [\n",
        "            ToolMessage(\n",
        "                content=f\"Error: {repr(error)}\\n please fix your mistakes.\",\n",
        "                tool_call_id=tc[\"id\"],\n",
        "            )\n",
        "            for tc in tool_calls\n",
        "        ]\n",
        "    }\n",
        "\n",
        "\n",
        "def create_tool_node_with_fallback(tools: list) -> dict:\n",
        "    return ToolNode(tools).with_fallbacks(\n",
        "        [RunnableLambda(handle_tool_error)], exception_key=\"error\"\n",
        "    )\n",
        "\n",
        "\n",
        "def _print_event(event: dict, _printed: set, max_length=1500):\n",
        "    current_state = event.get(\"dialog_state\")\n",
        "    if current_state:\n",
        "        print(\"Currently in: \", current_state[-1])\n",
        "    message = event.get(\"messages\")\n",
        "    if message:\n",
        "        if isinstance(message, list):\n",
        "            message = message[-1]\n",
        "        if message.id not in _printed:\n",
        "            msg_repr = message.pretty_repr(html=True)\n",
        "            if len(msg_repr) > max_length:\n",
        "                msg_repr = msg_repr[:max_length] + \" ... (truncated)\"\n",
        "            print(msg_repr)\n",
        "            _printed.add(message.id)"
      ]
    },
    {
      "cell_type": "code",
      "execution_count": 17,
      "id": "d57f8b83",
      "metadata": {},
      "outputs": [],
      "source": [
        "from langchain_core.prompts import ChatPromptTemplate\n",
        "from langchain_core.runnables import Runnable, RunnableConfig\n",
        "import datetime\n",
        "\n",
        "\n",
        "class Assistant:\n",
        "    def __init__(self, runnable: Runnable):\n",
        "        self.runnable = runnable\n",
        "\n",
        "    def __call__(self, state: State, config: RunnableConfig):\n",
        "        while True:\n",
        "            configuration = config.get(\"configurable\", {})\n",
        "            name = configuration.get(\"name\", None)\n",
        "            state = {**state, \"user_info\": name}\n",
        "            result = self.runnable.invoke(state)\n",
        "            # If the LLM happens to return an empty response, we will re-prompt it\n",
        "            # for an actual response.\n",
        "            if not result.tool_calls and (\n",
        "                not result.content\n",
        "                or isinstance(result.content, list)\n",
        "                and not result.content[0].get(\"text\")\n",
        "            ):\n",
        "                messages = state[\"messages\"] + [(\"user\", \"Respond with a real output.\")]\n",
        "                state = {**state, \"messages\": messages}\n",
        "            else:\n",
        "                break\n",
        "        return {\"messages\": result}\n",
        "\n",
        "\n",
        "\n",
        "\n",
        "prompt = ChatPromptTemplate.from_messages(\n",
        "    [\n",
        "        (\n",
        "            \"system\",\n",
        "            \"You are a helpful customer support for a climbing company. \"\n",
        "            \"given customer's name, make sure to first query the db and then incorporate customer's information from the database. \"\n",
        "            \" Use the provided tools to search for climbing gears and trekkings in Nepal, upon customer's request. \"\n",
        "            \"\\n\\nCurrent user:\\n<User>\\n{user_info}\\n</User>\"\n",
        "\n",
        "        ),\n",
        "        (\"placeholder\", \"{messages}\"),\n",
        "    ]\n",
        ")\n",
        "\n",
        "\n",
        "assistant_runnable = prompt | model.bind_tools(tools)"
      ]
    },
    {
      "cell_type": "code",
      "execution_count": 18,
      "id": "34aa5f0e",
      "metadata": {},
      "outputs": [],
      "source": [
        "from langgraph.checkpoint.memory import MemorySaver\n",
        "from langgraph.graph import END, StateGraph, START\n",
        "from langgraph.prebuilt import tools_condition\n",
        "\n",
        "builder = StateGraph(State)\n",
        "\n",
        "\n",
        "# Define nodes: these do the work\n",
        "builder.add_node(\"assistant\", Assistant(assistant_runnable))\n",
        "builder.add_node(\"tools\", create_tool_node_with_fallback(tools))\n",
        "# Define edges: these determine how the control flow moves\n",
        "builder.add_edge(START, \"assistant\")\n",
        "builder.add_conditional_edges(\n",
        "    \"assistant\",\n",
        "    tools_condition,\n",
        ")\n",
        "builder.add_edge(\"tools\", \"assistant\")\n",
        "\n",
        "# The checkpointer lets the graph persist its state\n",
        "# this is a complete memory for the entire graph.\n",
        "memory = MemorySaver()\n",
        "graph = builder.compile(checkpointer=memory)"
      ]
    },
    {
      "cell_type": "code",
      "execution_count": 19,
      "id": "0f7ccf8e",
      "metadata": {},
      "outputs": [
        {
          "data": {
            "image/jpeg": "[encoded data removed]",
            "text/plain": [
              "<IPython.core.display.Image object>"
            ]
          },
          "metadata": {},
          "output_type": "display_data"
        }
      ],
      "source": [
        "from IPython.display import Image, display\n",
        "\n",
        "try:\n",
        "    display(Image(graph.get_graph(xray=True).draw_mermaid_png()))\n",
        "except Exception:\n",
        "    pass"
      ]
    },
    {
      "cell_type": "code",
      "execution_count": 20,
      "id": "b369cbc8",
      "metadata": {},
      "outputs": [
        {
          "name": "stdout",
          "output_type": "stream",
          "text": [
            "================================\u001b[1m Human Message \u001b[0m=================================\n",
            "\n",
            "Hi there, Can you help me find some climbing shoes based on my previous purchases?\n",
            "==================================\u001b[1m Ai Message \u001b[0m==================================\n",
            "Tool Calls:\n",
            "  sql_db_list_tables (call_sKseQiPmd1sGUOpzGIrG37Tk)\n",
            " Call ID: call_sKseQiPmd1sGUOpzGIrG37Tk\n",
            "  Args:\n",
            "=================================\u001b[1m Tool Message \u001b[0m=================================\n",
            "Name: sql_db_list_tables\n",
            "\n",
            "customer_interactions\n",
            "==================================\u001b[1m Ai Message \u001b[0m==================================\n",
            "Tool Calls:\n",
            "  sql_db_schema (call_0clnj7Kd3G7auYQzC88DfOBk)\n",
            " Call ID: call_0clnj7Kd3G7auYQzC88DfOBk\n",
            "  Args:\n",
            "    table_names: customer_interactions\n",
            "=================================\u001b[1m Tool Message \u001b[0m=================================\n",
            "Name: sql_db_schema\n",
            "\n",
            "\n",
            "CREATE TABLE customer_interactions (\n",
            "\t\"Name\" TEXT, \n",
            "\t\"Gender\" TEXT, \n",
            "\t\"Age\" INTEGER, \n",
            "\t\"Previous Purchases\" TEXT, \n",
            "\t\"Reviews Given\" TEXT\n",
            ")\n",
            "\n",
            "/*\n",
            "3 rows from customer_interactions table:\n",
            "Name\tGender\tAge\tPrevious Purchases\tReviews Given\n",
            "John Doe\tMale\t28\tPro Gear 123 Climbing Shoes, UltraClip Carabiner, StrongRope 500\tI really liked this product!\n",
            "Jane Smith\tFemale\t34\tClimbSafe Harness, GripMaster Chalk Bag, RockShield Helmet\tThe product quality is great, highly recommend!\n",
            "Alex Johnson\tMale\t22\tQuickClip Carabiner\tIt's okay, but I expected better.\n",
            "*/\n",
            "==================================\u001b[1m Ai Message \u001b[0m==================================\n",
            "Tool Calls:\n",
            "  sql_db_query (call_Mj8QF1PXhGqG8D5W4gmF3ffv)\n",
            " Call ID: call_Mj8QF1PXhGqG8D5W4gmF3ffv\n",
            "  Args:\n",
            "    query: SELECT \"Previous Purchases\" FROM customer_interactions WHERE \"Name\" = 'John Doe'\n",
            "=================================\u001b[1m Tool Message \u001b[0m=================================\n",
            "Name: sql_db_query\n",
            "\n",
            "[('Pro Gear 123 Climbing Shoes, UltraClip Carabiner, StrongRope 500',)]\n",
            "==================================\u001b[1m Ai Message \u001b[0m==================================\n",
            "Tool Calls:\n",
            "  climbing_products_search (call_HGWjBTr1PKtlYpvmJBCeqYT2)\n",
            " Call ID: call_HGWjBTr1PKtlYpvmJBCeqYT2\n",
            "  Args:\n",
            "    query: climbing shoes\n",
            "=================================\u001b[1m Tool Message \u001b[0m=================================\n",
            "Name: climbing_products_search\n",
            "\n",
            "absorbs impacts, ensuring your safety in case of falls or rockfalls. The helmet has an \n",
            "adjustable fit system, ventilation holes, and a headlamp attachment for climbing in low -\n",
            "light conditions.  \n",
            "• Specifications:  \n",
            "o Material:  ABS shell, EPS foam liner  \n",
            "o Weight: 280 grams  \n",
            "o Ventilation:  10 air vents  \n",
            "o Fit System:  Adjustable dial  \n",
            "o Headlamp Attachment:  Yes \n",
            "o Sizes: S/M, M/L  \n",
            "o Colors: White, Orange, Blue  \n",
            "7. QuickClip Carabiner  \n",
            "• Category:  Hardware  \n",
            "• Description:  The QuickClip Carabiner is a compact and lightweight carabiner designed \n",
            "for quickdraws and other climbing applications. Its compact size and smooth gate \n",
            "action make it easy to clip and unclip during climbs. It is constructed from high -strength \n",
            "aluminum, ma king it both lightweight and durable.  \n",
            "• Specifications:  \n",
            "o Material:  Aluminum  \n",
            "o Weight: 40 grams  \n",
            "o Gate Opening:  20mm  \n",
            "o Strength:  22 kN (major axis), 7 kN (minor axis), 6 kN (open gate)  \n",
            "o Colors: Red, Blue, Green  \n",
            "8. SummitX Climbing Shoes  \n",
            "• Category:  Footwear  \n",
            "• Description:  The SummitX Climbing Shoes are built for technical climbs where \n",
            "precision and performance are key. These shoes feature an aggressive downturn, sticky \n",
            "rubber soles, and a tight fit to ensure maximum control on small holds. The leather \n",
            "upper stretches over time for a custom fit, making these shoes ideal for advanced \n",
            "climbers.  ... (truncated)\n",
            "==================================\u001b[1m Ai Message \u001b[0m==================================\n",
            "\n",
            "Based on your previous purchases which include the \"Pro Gear 123 Climbing Shoes,\" you might be interested in the following climbing shoes:\n",
            "\n",
            "### Climbing Shoes Recommendations:\n",
            "1. **Pro Gear 123 Climbing Shoes**\n",
            "   - **Category:** Footwear\n",
            "   - **Description:** The Pro Gear 123 Climbing Shoes are designed for both beginners and advanced climbers. With a snug fit and high-friction rubber soles, they provide excellent grip on all types of surfaces. The shoes feature a synthetic upper that molds to your feet over time, ensuring comfort and performance. Ideal for bouldering and sport climbing.\n",
            "   - **Specifications:**\n",
            "     - **Material:** Synthetic upper, high-friction rubber sole\n",
            "     - **Weight:** 400 grams per shoe\n",
            "     - **Closure Type:** Velcro\n",
            "     - **Available Sizes:** 5-13 (US)\n",
            "     - **Colors:** Black, Red, Blue\n",
            "\n",
            "2. **SummitX Climbing Shoes**\n",
            "   - **Category:** Footwear\n",
            "   - **Description:** The SummitX Climbing Shoes are built for technical climbs where precision and performance are key. These shoes feature an aggressive downturn, sticky rubber soles, and a tight fit to ensure maximum control on small holds. The leather upper stretches over time for a custom fit, making these shoes ideal for advanced climbers.\n",
            "   - **Specifications:**\n",
            "     - **Material:** Leather upper, sticky rubber sole\n",
            "     - **Weight:** 450 grams per shoe\n",
            "     - **Closure Type:** Lace-up\n",
            "     - **Available Size ... (truncated)\n",
            "================================\u001b[1m Human Message \u001b[0m=================================\n",
            "\n",
            "I want to do a trekking on the highest base camp in nepal, which trek would you recommend?\n",
            "==================================\u001b[1m Ai Message \u001b[0m==================================\n",
            "Tool Calls:\n",
            "  trekking_search (call_0kFjZgwOD7tDolZInEzpARkc)\n",
            " Call ID: call_0kFjZgwOD7tDolZInEzpARkc\n",
            "  Args:\n",
            "    query: highest base camp trek in Nepal\n",
            "=================================\u001b[1m Tool Message \u001b[0m=================================\n",
            "Name: trekking_search\n",
            "\n",
            "based on96 reviews\n",
            "The Everest Base Camp Trek is determined by the type of expedition, the trek route you chose, the season, and the services planned.\n",
            "The particular pack is one of the sought-after treks in Nepal. We at Out\u0000tter Nepal strive to provide quality services for the Everest\n",
            "Base Camp trek at the best cost in the market. We have prepared an ideal package for novice and experienced trekkers with\n",
            "adequate rest days. The Everest Base Camp trek is a remarkable journey that enables you to witness glorious Himalayan vistas and\n",
            "routes enriched with distinct cultures. The sheer presence and magni\u0000cence of Mount Everest have captivated travelers for decades.\n",
            "Every year, thousands of adventurous enthusiasts worldwide visit Nepal to experience the Everest Base Camp Trek. The trekking\n",
            "package for 2024 and 2025 is specially designed for trekkers who want to immerse themselves in the serenity of the Everest region in\n",
            "a short time.\n",
            "The trek will take you to an elevation of over 5,364 meters and offer panoramic views of the surrounding mountain peaks. This\n",
            "includes the iconic Mount Everest, Lhotse, Pumori, Lobuche, and Nuptse. On this exciting expedition, you bend and turn your hike\n",
            "throughout the trails, offering you something unique to experience. The challenges, adrenaline rush, and adventure will create lifelong\n",
            "memories as you follow the footsteps of the Himalayas' l ... (truncated)\n",
            "==================================\u001b[1m Ai Message \u001b[0m==================================\n",
            "\n",
            "### Everest Base Camp Trek\n",
            "\n",
            "The Everest Base Camp Trek is one of the most sought-after trekking adventures in Nepal, offering a remarkable journey that allows you to witness the glorious Himalayan vistas and experience the rich culture of the region.\n",
            "\n",
            "#### Trek Highlights:\n",
            "- **Base Camp of Mount Everest:** Reach an elevation of over 5,364 meters.\n",
            "- **Panoramic Views:** Enjoy stunning views of Mount Everest, Lhotse, Pumori, Lobuche, and Nuptse.\n",
            "- **Sagarmatha National Park:** Trek through the natural wonders and wilderness of this park.\n",
            "- **Namche Bazaar:** Explore the cultural melting pot and gateway of the Everest region.\n",
            "- **Sherpa Community:** Immerse yourself in the daily lifestyle and traditions of the Sherpa people.\n",
            "- **Tengboche Monastery:** Visit the oldest monastery in the Everest region.\n",
            "- **Khumbu Glacier:** Witness one of the deepest glaciers in the world.\n",
            "- **Kala Patthar:** Hike to 5,555 meters for spectacular sunrise views over Mount Everest.\n",
            "\n",
            "#### Route Overview:\n",
            "1. **Start & End:** The trek begins and ends in the town of Lukla.\n",
            "2. **Key Stops:** Dudh Koshi River, Namche, Tengboche, Dingboche, Lobuche, Gorakshep, and Kala Patthar.\n",
            "3. **Accommodation:** Teahouses and lodges with simple travel lodging and meals.\n",
            "4. **Food:** Hygienic guidelines followed for meal preparation, staple meal being daal bhat.\n",
            "\n",
            "#### Trek Details:\n",
            "- **Duration:** 14 days\n",
            "- **Max Altitude:** 5550 me ... (truncated)\n"
          ]
        }
      ],
      "source": [
        "import shutil\n",
        "import uuid\n",
        "\n",
        "# Let's create an example conversation a user might have with the assistant\n",
        "tutorial_questions = [\n",
        "    \"Hi there, Can you help me find some climbing shoes based on my previous purchases?\",\n",
        "    \"I want to do a trekking on the highest base camp in nepal, which trek would you recommend?\",\n",
        "]\n",
        "\n",
        "\n",
        "thread_id = str(uuid.uuid4())\n",
        "\n",
        "config = {\n",
        "    \"configurable\": {\n",
        "        # The passenger_id is used in our flight tools to\n",
        "        # fetch the user's flight information\n",
        "        \"name\": \"John Doe\",\n",
        "        # Checkpoints are accessed by thread_id\n",
        "        \"thread_id\": thread_id,\n",
        "    }\n",
        "}\n",
        "\n",
        "\n",
        "_printed = set()\n",
        "for question in tutorial_questions:\n",
        "    events = graph.stream(\n",
        "        {\"messages\": (\"user\", question)}, config, stream_mode=\"values\"\n",
        "    )\n",
        "    for event in events:\n",
        "        _print_event(event, _printed)"
      ]
    }
  ],
  "metadata": {
    "colab": {
      "provenance": []
    },
    "kernelspec": {
      "display_name": "base",
      "language": "python",
      "name": "python3"
    },
    "language_info": {
      "codemirror_mode": {
        "name": "ipython",
        "version": 3
      },
      "file_extension": ".py",
      "mimetype": "text/x-python",
      "name": "python",
      "nbconvert_exporter": "python",
      "pygments_lexer": "ipython3",
      "version": "3.12.4"
    }
  },
  "nbformat": 4,
  "nbformat_minor": 5
}
